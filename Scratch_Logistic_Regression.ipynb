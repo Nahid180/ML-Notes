{
 "cells": [
  {
   "cell_type": "code",
   "execution_count": 109,
   "id": "4e4c2b47-3d50-418a-b418-4347e53a57d5",
   "metadata": {},
   "outputs": [],
   "source": [
    "import pandas as pd\n",
    "import numpy as np\n",
    "import matplotlib.pyplot as plt\n",
    "import math\n",
    "import copy"
   ]
  },
  {
   "cell_type": "code",
   "execution_count": 110,
   "id": "1ea281d3-19ee-4e59-b0e7-61d801eac530",
   "metadata": {},
   "outputs": [],
   "source": [
    "df = pd.read_csv(\"cancer.csv\")"
   ]
  },
  {
   "cell_type": "code",
   "execution_count": 111,
   "id": "37ab0462-014c-4e09-90b6-212c128e0321",
   "metadata": {},
   "outputs": [
    {
     "data": {
      "text/html": [
       "<div>\n",
       "<style scoped>\n",
       "    .dataframe tbody tr th:only-of-type {\n",
       "        vertical-align: middle;\n",
       "    }\n",
       "\n",
       "    .dataframe tbody tr th {\n",
       "        vertical-align: top;\n",
       "    }\n",
       "\n",
       "    .dataframe thead th {\n",
       "        text-align: right;\n",
       "    }\n",
       "</style>\n",
       "<table border=\"1\" class=\"dataframe\">\n",
       "  <thead>\n",
       "    <tr style=\"text-align: right;\">\n",
       "      <th></th>\n",
       "      <th>id</th>\n",
       "      <th>diagnosis</th>\n",
       "      <th>radius_mean</th>\n",
       "      <th>texture_mean</th>\n",
       "      <th>perimeter_mean</th>\n",
       "      <th>area_mean</th>\n",
       "      <th>smoothness_mean</th>\n",
       "      <th>compactness_mean</th>\n",
       "      <th>concavity_mean</th>\n",
       "      <th>concave points_mean</th>\n",
       "      <th>...</th>\n",
       "      <th>texture_worst</th>\n",
       "      <th>perimeter_worst</th>\n",
       "      <th>area_worst</th>\n",
       "      <th>smoothness_worst</th>\n",
       "      <th>compactness_worst</th>\n",
       "      <th>concavity_worst</th>\n",
       "      <th>concave points_worst</th>\n",
       "      <th>symmetry_worst</th>\n",
       "      <th>fractal_dimension_worst</th>\n",
       "      <th>Unnamed: 32</th>\n",
       "    </tr>\n",
       "  </thead>\n",
       "  <tbody>\n",
       "    <tr>\n",
       "      <th>0</th>\n",
       "      <td>842302</td>\n",
       "      <td>M</td>\n",
       "      <td>17.99</td>\n",
       "      <td>10.38</td>\n",
       "      <td>122.80</td>\n",
       "      <td>1001.0</td>\n",
       "      <td>0.11840</td>\n",
       "      <td>0.27760</td>\n",
       "      <td>0.3001</td>\n",
       "      <td>0.14710</td>\n",
       "      <td>...</td>\n",
       "      <td>17.33</td>\n",
       "      <td>184.60</td>\n",
       "      <td>2019.0</td>\n",
       "      <td>0.1622</td>\n",
       "      <td>0.6656</td>\n",
       "      <td>0.7119</td>\n",
       "      <td>0.2654</td>\n",
       "      <td>0.4601</td>\n",
       "      <td>0.11890</td>\n",
       "      <td>NaN</td>\n",
       "    </tr>\n",
       "    <tr>\n",
       "      <th>1</th>\n",
       "      <td>842517</td>\n",
       "      <td>M</td>\n",
       "      <td>20.57</td>\n",
       "      <td>17.77</td>\n",
       "      <td>132.90</td>\n",
       "      <td>1326.0</td>\n",
       "      <td>0.08474</td>\n",
       "      <td>0.07864</td>\n",
       "      <td>0.0869</td>\n",
       "      <td>0.07017</td>\n",
       "      <td>...</td>\n",
       "      <td>23.41</td>\n",
       "      <td>158.80</td>\n",
       "      <td>1956.0</td>\n",
       "      <td>0.1238</td>\n",
       "      <td>0.1866</td>\n",
       "      <td>0.2416</td>\n",
       "      <td>0.1860</td>\n",
       "      <td>0.2750</td>\n",
       "      <td>0.08902</td>\n",
       "      <td>NaN</td>\n",
       "    </tr>\n",
       "    <tr>\n",
       "      <th>2</th>\n",
       "      <td>84300903</td>\n",
       "      <td>M</td>\n",
       "      <td>19.69</td>\n",
       "      <td>21.25</td>\n",
       "      <td>130.00</td>\n",
       "      <td>1203.0</td>\n",
       "      <td>0.10960</td>\n",
       "      <td>0.15990</td>\n",
       "      <td>0.1974</td>\n",
       "      <td>0.12790</td>\n",
       "      <td>...</td>\n",
       "      <td>25.53</td>\n",
       "      <td>152.50</td>\n",
       "      <td>1709.0</td>\n",
       "      <td>0.1444</td>\n",
       "      <td>0.4245</td>\n",
       "      <td>0.4504</td>\n",
       "      <td>0.2430</td>\n",
       "      <td>0.3613</td>\n",
       "      <td>0.08758</td>\n",
       "      <td>NaN</td>\n",
       "    </tr>\n",
       "    <tr>\n",
       "      <th>3</th>\n",
       "      <td>84348301</td>\n",
       "      <td>M</td>\n",
       "      <td>11.42</td>\n",
       "      <td>20.38</td>\n",
       "      <td>77.58</td>\n",
       "      <td>386.1</td>\n",
       "      <td>0.14250</td>\n",
       "      <td>0.28390</td>\n",
       "      <td>0.2414</td>\n",
       "      <td>0.10520</td>\n",
       "      <td>...</td>\n",
       "      <td>26.50</td>\n",
       "      <td>98.87</td>\n",
       "      <td>567.7</td>\n",
       "      <td>0.2098</td>\n",
       "      <td>0.8663</td>\n",
       "      <td>0.6869</td>\n",
       "      <td>0.2575</td>\n",
       "      <td>0.6638</td>\n",
       "      <td>0.17300</td>\n",
       "      <td>NaN</td>\n",
       "    </tr>\n",
       "    <tr>\n",
       "      <th>4</th>\n",
       "      <td>84358402</td>\n",
       "      <td>M</td>\n",
       "      <td>20.29</td>\n",
       "      <td>14.34</td>\n",
       "      <td>135.10</td>\n",
       "      <td>1297.0</td>\n",
       "      <td>0.10030</td>\n",
       "      <td>0.13280</td>\n",
       "      <td>0.1980</td>\n",
       "      <td>0.10430</td>\n",
       "      <td>...</td>\n",
       "      <td>16.67</td>\n",
       "      <td>152.20</td>\n",
       "      <td>1575.0</td>\n",
       "      <td>0.1374</td>\n",
       "      <td>0.2050</td>\n",
       "      <td>0.4000</td>\n",
       "      <td>0.1625</td>\n",
       "      <td>0.2364</td>\n",
       "      <td>0.07678</td>\n",
       "      <td>NaN</td>\n",
       "    </tr>\n",
       "  </tbody>\n",
       "</table>\n",
       "<p>5 rows × 33 columns</p>\n",
       "</div>"
      ],
      "text/plain": [
       "         id diagnosis  radius_mean  texture_mean  perimeter_mean  area_mean  \\\n",
       "0    842302         M        17.99         10.38          122.80     1001.0   \n",
       "1    842517         M        20.57         17.77          132.90     1326.0   \n",
       "2  84300903         M        19.69         21.25          130.00     1203.0   \n",
       "3  84348301         M        11.42         20.38           77.58      386.1   \n",
       "4  84358402         M        20.29         14.34          135.10     1297.0   \n",
       "\n",
       "   smoothness_mean  compactness_mean  concavity_mean  concave points_mean  \\\n",
       "0          0.11840           0.27760          0.3001              0.14710   \n",
       "1          0.08474           0.07864          0.0869              0.07017   \n",
       "2          0.10960           0.15990          0.1974              0.12790   \n",
       "3          0.14250           0.28390          0.2414              0.10520   \n",
       "4          0.10030           0.13280          0.1980              0.10430   \n",
       "\n",
       "   ...  texture_worst  perimeter_worst  area_worst  smoothness_worst  \\\n",
       "0  ...          17.33           184.60      2019.0            0.1622   \n",
       "1  ...          23.41           158.80      1956.0            0.1238   \n",
       "2  ...          25.53           152.50      1709.0            0.1444   \n",
       "3  ...          26.50            98.87       567.7            0.2098   \n",
       "4  ...          16.67           152.20      1575.0            0.1374   \n",
       "\n",
       "   compactness_worst  concavity_worst  concave points_worst  symmetry_worst  \\\n",
       "0             0.6656           0.7119                0.2654          0.4601   \n",
       "1             0.1866           0.2416                0.1860          0.2750   \n",
       "2             0.4245           0.4504                0.2430          0.3613   \n",
       "3             0.8663           0.6869                0.2575          0.6638   \n",
       "4             0.2050           0.4000                0.1625          0.2364   \n",
       "\n",
       "   fractal_dimension_worst  Unnamed: 32  \n",
       "0                  0.11890          NaN  \n",
       "1                  0.08902          NaN  \n",
       "2                  0.08758          NaN  \n",
       "3                  0.17300          NaN  \n",
       "4                  0.07678          NaN  \n",
       "\n",
       "[5 rows x 33 columns]"
      ]
     },
     "execution_count": 111,
     "metadata": {},
     "output_type": "execute_result"
    }
   ],
   "source": [
    "df.head()"
   ]
  },
  {
   "cell_type": "code",
   "execution_count": 112,
   "id": "f2bd844f-1087-4276-b55d-a003acc9ef4c",
   "metadata": {},
   "outputs": [
    {
     "data": {
      "text/plain": [
       "id                         911320502\n",
       "diagnosis                          M\n",
       "radius_mean                    28.11\n",
       "texture_mean                   39.28\n",
       "perimeter_mean                 188.5\n",
       "area_mean                     2501.0\n",
       "smoothness_mean               0.1634\n",
       "compactness_mean              0.3454\n",
       "concavity_mean                0.4268\n",
       "concave points_mean           0.2012\n",
       "symmetry_mean                  0.304\n",
       "fractal_dimension_mean       0.09744\n",
       "radius_se                      2.873\n",
       "texture_se                     4.885\n",
       "perimeter_se                   21.98\n",
       "area_se                        542.2\n",
       "smoothness_se                0.03113\n",
       "compactness_se                0.1354\n",
       "concavity_se                   0.396\n",
       "concave points_se            0.05279\n",
       "symmetry_se                  0.07895\n",
       "fractal_dimension_se         0.02984\n",
       "radius_worst                   36.04\n",
       "texture_worst                  49.54\n",
       "perimeter_worst                251.2\n",
       "area_worst                    4254.0\n",
       "smoothness_worst              0.2226\n",
       "compactness_worst              1.058\n",
       "concavity_worst                1.252\n",
       "concave points_worst           0.291\n",
       "symmetry_worst                0.6638\n",
       "fractal_dimension_worst       0.2075\n",
       "Unnamed: 32                      NaN\n",
       "dtype: object"
      ]
     },
     "execution_count": 112,
     "metadata": {},
     "output_type": "execute_result"
    }
   ],
   "source": [
    "df.max()"
   ]
  },
  {
   "cell_type": "code",
   "execution_count": 113,
   "id": "03c9e3d6-b50f-4e2f-b82d-88fbde153ac5",
   "metadata": {},
   "outputs": [],
   "source": [
    "x_train = df[['radius_mean','texture_mean','perimeter_mean','concave points_mean','symmetry_mean']]\n",
    "x_train = (x_train/x_train.max()).to_numpy()\n",
    "y_train = df['diagnosis'].map({'M':0., 'B':1.}).to_numpy()"
   ]
  },
  {
   "cell_type": "code",
   "execution_count": 114,
   "id": "5ffe4860-1dd6-49a3-ae1d-02f09665e9ca",
   "metadata": {},
   "outputs": [
    {
     "data": {
      "text/plain": [
       "array([[0.63998577, 0.26425662, 0.65145889, 0.73111332, 0.79572368],\n",
       "       [0.73176805, 0.45239308, 0.70503979, 0.34875746, 0.59605263],\n",
       "       [0.70046247, 0.54098778, 0.68965517, 0.63568588, 0.68059211],\n",
       "       ...,\n",
       "       [0.59053718, 0.71486762, 0.57453581, 0.26351889, 0.52302632],\n",
       "       [0.73283529, 0.74669043, 0.74323607, 0.7554672 , 0.78848684],\n",
       "       [0.27605834, 0.62474542, 0.25421751, 0.        , 0.52203947]])"
      ]
     },
     "execution_count": 114,
     "metadata": {},
     "output_type": "execute_result"
    }
   ],
   "source": [
    "x_train"
   ]
  },
  {
   "cell_type": "code",
   "execution_count": 115,
   "id": "cef0160b-c4de-46f0-9797-f7926ce68ba7",
   "metadata": {},
   "outputs": [],
   "source": [
    "w_init = np.zeros((x_train.shape[1]))\n",
    "b_init = 0."
   ]
  },
  {
   "cell_type": "code",
   "execution_count": 116,
   "id": "59550022-8afc-4782-8e72-5315f9f7b0fd",
   "metadata": {},
   "outputs": [
    {
     "data": {
      "text/plain": [
       "(569, 5)"
      ]
     },
     "execution_count": 116,
     "metadata": {},
     "output_type": "execute_result"
    }
   ],
   "source": [
    "x_train.shape"
   ]
  },
  {
   "cell_type": "code",
   "execution_count": 117,
   "id": "abbe4be4-8b79-4890-8490-17b64a191dc4",
   "metadata": {},
   "outputs": [
    {
     "data": {
      "text/plain": [
       "np.float64(0.0)"
      ]
     },
     "execution_count": 117,
     "metadata": {},
     "output_type": "execute_result"
    }
   ],
   "source": [
    "np.dot(x_train[0],w_init)"
   ]
  },
  {
   "cell_type": "code",
   "execution_count": 125,
   "id": "6ad055f4-c4dd-49d7-bcb3-c533a50ede09",
   "metadata": {},
   "outputs": [],
   "source": [
    "def calc_cost(x,y,w,b): \n",
    "    m = x.shape[0]\n",
    "    total_cost = 0.\n",
    "    for i in range(m):\n",
    "        f_w_b = 1/(1+pow(2.72, (-1)*(np.dot(w,x[i])+b)))\n",
    "        total_cost+= (y[i]*(math.log(f_w_b))) + ((1-y[i])*math.log(1-f_w_b))\n",
    "    return -total_cost/m"
   ]
  },
  {
   "cell_type": "code",
   "execution_count": 126,
   "id": "523e329f-4d3e-4eff-9a37-9d098662750b",
   "metadata": {},
   "outputs": [
    {
     "data": {
      "text/plain": [
       "np.float64(0.6931471805599468)"
      ]
     },
     "execution_count": 126,
     "metadata": {},
     "output_type": "execute_result"
    }
   ],
   "source": [
    "calc_cost(x_train, y_train, w_init, b_init)"
   ]
  },
  {
   "cell_type": "code",
   "execution_count": 127,
   "id": "658235fd-0430-41fb-b323-0222f47ecf27",
   "metadata": {},
   "outputs": [],
   "source": [
    "def calc_grad(x,y,w,b):\n",
    "    m ,n= x.shape\n",
    "    grad_w = np.zeros_like(w)\n",
    "    grad_b = 0.\n",
    "    for i in range(m):\n",
    "        f_w_b_diff = (1/(1+pow(2.72, (-1)*(np.dot(w,x[i])+b)))) - y[i]\n",
    "        for j in range(n):\n",
    "            grad_w[j] += f_w_b_diff*x[i,j]\n",
    "        grad_b += f_w_b_diff\n",
    "    return grad_w/m, grad_b/m\n",
    "        "
   ]
  },
  {
   "cell_type": "code",
   "execution_count": 128,
   "id": "485be747-fc28-49e2-9dd5-be71caafffb7",
   "metadata": {},
   "outputs": [],
   "source": [
    "def Gradient_Descent(x,y,w_in,b_in,lr,steps):\n",
    "    w = copy.deepcopy(w_in)\n",
    "    b = copy.deepcopy(b_in)\n",
    "    cost_hist=[]\n",
    "\n",
    "    for i in range(steps):\n",
    "        cost = calc_cost(x,y,w,b)\n",
    "        cost_hist.append(cost)\n",
    "        grad_w, grad_b = calc_grad(x,y,w,b)\n",
    "        w = w - (lr*grad_w)\n",
    "        b = b - (lr*grad_b)\n",
    "\n",
    "        if (i%100==0):\n",
    "            print(f\"Cost: {cost}\")\n",
    "\n",
    "    return w,b,cost_hist\n",
    "    "
   ]
  },
  {
   "cell_type": "code",
   "execution_count": 135,
   "id": "59351733-c90e-49d4-bace-e49f3fb01129",
   "metadata": {},
   "outputs": [
    {
     "name": "stdout",
     "output_type": "stream",
     "text": [
      "Cost: 0.6931471805599468\n",
      "Cost: 0.6129987810662209\n",
      "Cost: 0.5614551729267311\n",
      "Cost: 0.5199644238995498\n",
      "Cost: 0.48611676569614987\n",
      "Cost: 0.45808765494110404\n",
      "Cost: 0.43453601665859276\n",
      "Cost: 0.41448044357046904\n",
      "Cost: 0.39719695843746\n",
      "Cost: 0.38214433170017437\n",
      "Cost: 0.368911821006732\n",
      "Cost: 0.3571829769804421\n",
      "Cost: 0.34671046972007047\n",
      "Cost: 0.33729839092633257\n",
      "Cost: 0.32878964306797237\n",
      "Cost: 0.32105682413505726\n",
      "Cost: 0.3139955449622341\n",
      "Cost: 0.30751946269699876\n",
      "Cost: 0.3015565417998911\n",
      "Cost: 0.29604620494839773\n",
      "Cost: 0.2909371374121879\n",
      "Cost: 0.28618557714506804\n",
      "Cost: 0.28175397005169445\n",
      "Cost: 0.27760990276069275\n",
      "Cost: 0.27372524841103196\n",
      "Cost: 0.27007547749239097\n",
      "Cost: 0.26663909771073935\n",
      "Cost: 0.2633971955524519\n",
      "Cost: 0.2603330586327351\n",
      "Cost: 0.2574318626852894\n",
      "Cost: 0.2546804106326143\n",
      "Cost: 0.2520669138896934\n",
      "Cost: 0.249580808125674\n",
      "Cost: 0.24721259730255032\n",
      "Cost: 0.24495372104579266\n",
      "Cost: 0.2427964413666548\n",
      "Cost: 0.24073374551398133\n",
      "Cost: 0.2387592623327641\n",
      "Cost: 0.23686718998350684\n",
      "Cost: 0.23505223325788357\n",
      "Cost: 0.23330954903296644\n",
      "Cost: 0.23163469865431444\n",
      "Cost: 0.23002360623973617\n",
      "Cost: 0.22847252206001747\n",
      "Cost: 0.22697799028779192\n",
      "Cost: 0.22553682051680726\n",
      "Cost: 0.2241460625456843\n",
      "Cost: 0.22280298399653334\n",
      "Cost: 0.2215050504023301\n",
      "Cost: 0.22024990745012413\n",
      "Cost: 0.21903536511174934\n",
      "Cost: 0.21785938343130862\n",
      "Cost: 0.21672005977042724\n",
      "Cost: 0.21561561733920842\n",
      "Cost: 0.21454439486368168\n",
      "Cost: 0.21350483726006111\n",
      "Cost: 0.21249548720279798\n",
      "Cost: 0.2115149774877228\n",
      "Cost: 0.21056202410385846\n",
      "Cost: 0.20963541993808982\n",
      "Cost: 0.20873402904601798\n",
      "Cost: 0.2078567814302643\n",
      "Cost: 0.20700266827435804\n",
      "Cost: 0.20617073758634377\n",
      "Cost: 0.20536009021143584\n",
      "Cost: 0.20456987617763625\n",
      "Cost: 0.20379929134219535\n",
      "Cost: 0.20304757431031342\n",
      "Cost: 0.20231400360054547\n",
      "Cost: 0.20159789503408562\n",
      "Cost: 0.20089859932749343\n",
      "Cost: 0.20021549987053522\n",
      "Cost: 0.19954801067268277\n",
      "Cost: 0.19889557446346176\n",
      "Cost: 0.19825766093332384\n",
      "Cost: 0.19763376510301506\n",
      "Cost: 0.19702340581057498\n",
      "Cost: 0.19642612430615983\n",
      "Cost: 0.1958414829457801\n",
      "Cost: 0.19526906397590862\n",
      "Cost: 0.19470846840162706\n",
      "Cost: 0.19415931493167152\n",
      "Cost: 0.1936212389943238\n",
      "Cost: 0.19309389181863526\n",
      "Cost: 0.19257693957596644\n",
      "Cost: 0.1920700625772437\n",
      "Cost: 0.19157295452175516\n",
      "Cost: 0.1910853217936442\n",
      "Cost: 0.19060688280259114\n",
      "Cost: 0.1901373673654669\n",
      "Cost: 0.1896765161260089\n",
      "Cost: 0.1892240800098039\n",
      "Cost: 0.18877981971209296\n",
      "Cost: 0.1883435052161008\n",
      "Cost: 0.18791491533978272\n",
      "Cost: 0.1874938373090458\n",
      "Cost: 0.18708006635564542\n",
      "Cost: 0.18667340533810728\n",
      "Cost: 0.1862736643841439\n",
      "Cost: 0.185880660553146\n"
     ]
    }
   ],
   "source": [
    "w,b,hist = Gradient_Descent(x_train, y_train, w_init, b_init, 0.1, 10000)"
   ]
  },
  {
   "cell_type": "code",
   "execution_count": 147,
   "id": "da4a7425-12e5-461d-bec4-852ab592911e",
   "metadata": {},
   "outputs": [
    {
     "data": {
      "text/plain": [
       "[<matplotlib.lines.Line2D at 0x7f116f6c0990>]"
      ]
     },
     "execution_count": 147,
     "metadata": {},
     "output_type": "execute_result"
    },
    {
     "data": {
      "image/png": "[encoded data removed]",
      "text/plain": [
       "<Figure size 640x480 with 1 Axes>"
      ]
     },
     "metadata": {},
     "output_type": "display_data"
    }
   ],
   "source": [
    "plt.plot(hist)"
   ]
  },
  {
   "cell_type": "code",
   "execution_count": 137,
   "id": "ff10b096-9416-4c4c-9fce-0c3396004961",
   "metadata": {},
   "outputs": [
    {
     "data": {
      "text/plain": [
       "(array([ -4.20041417,  -3.57075165,  -4.66868452, -11.87626694,\n",
       "          1.12634011]),\n",
       " np.float64(8.899074726798194))"
      ]
     },
     "execution_count": 137,
     "metadata": {},
     "output_type": "execute_result"
    }
   ],
   "source": [
    "w, b"
   ]
  },
  {
   "cell_type": "code",
   "execution_count": null,
   "id": "90cd3a16-12e6-4be8-be4d-21b00594deef",
   "metadata": {},
   "outputs": [],
   "source": []
  },
  {
   "cell_type": "code",
   "execution_count": null,
   "id": "0c86ad47-764d-4b15-a5a3-2657f91e3f2f",
   "metadata": {},
   "outputs": [],
   "source": []
  }
 ],
 "metadata": {
  "kernelspec": {
   "display_name": "Python 3 (ipykernel)",
   "language": "python",
   "name": "python3"
  },
  "language_info": {
   "codemirror_mode": {
    "name": "ipython",
    "version": 3
   },
   "file_extension": ".py",
   "mimetype": "text/x-python",
   "name": "python",
   "nbconvert_exporter": "python",
   "pygments_lexer": "ipython3",
   "version": "3.11.9"
  }
 },
 "nbformat": 4,
 "nbformat_minor": 5
}
