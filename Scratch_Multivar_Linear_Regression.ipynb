{
 "cells": [
  {
   "cell_type": "code",
   "execution_count": 297,
   "metadata": {
    "id": "rzGhX8uiMdAT"
   },
   "outputs": [],
   "source": [
    "import pandas as pd\n",
    "import numpy as np\n",
    "import matplotlib.pyplot as plt\n",
    "import copy"
   ]
  },
  {
   "cell_type": "code",
   "execution_count": 298,
   "metadata": {
    "id": "Btzh12-nOKPT"
   },
   "outputs": [],
   "source": [
    "df = pd.read_csv(\"Housing.csv\")[[\"price\",\"area\",\"bathrooms\",\"bedrooms\"]]"
   ]
  },
  {
   "cell_type": "code",
   "execution_count": 299,
   "metadata": {
    "colab": {
     "base_uri": "https://localhost:8080/",
     "height": 206
    },
    "id": "BP0_LYMsOKMN",
    "outputId": "4c937787-c972-42f5-db6a-6c6fc8741dc5"
   },
   "outputs": [
    {
     "data": {
      "text/html": [
       "<div>\n",
       "<style scoped>\n",
       "    .dataframe tbody tr th:only-of-type {\n",
       "        vertical-align: middle;\n",
       "    }\n",
       "\n",
       "    .dataframe tbody tr th {\n",
       "        vertical-align: top;\n",
       "    }\n",
       "\n",
       "    .dataframe thead th {\n",
       "        text-align: right;\n",
       "    }\n",
       "</style>\n",
       "<table border=\"1\" class=\"dataframe\">\n",
       "  <thead>\n",
       "    <tr style=\"text-align: right;\">\n",
       "      <th></th>\n",
       "      <th>price</th>\n",
       "      <th>area</th>\n",
       "      <th>bathrooms</th>\n",
       "      <th>bedrooms</th>\n",
       "    </tr>\n",
       "  </thead>\n",
       "  <tbody>\n",
       "    <tr>\n",
       "      <th>0</th>\n",
       "      <td>13300000</td>\n",
       "      <td>7420</td>\n",
       "      <td>2</td>\n",
       "      <td>4</td>\n",
       "    </tr>\n",
       "    <tr>\n",
       "      <th>1</th>\n",
       "      <td>12250000</td>\n",
       "      <td>8960</td>\n",
       "      <td>4</td>\n",
       "      <td>4</td>\n",
       "    </tr>\n",
       "    <tr>\n",
       "      <th>2</th>\n",
       "      <td>12250000</td>\n",
       "      <td>9960</td>\n",
       "      <td>2</td>\n",
       "      <td>3</td>\n",
       "    </tr>\n",
       "    <tr>\n",
       "      <th>3</th>\n",
       "      <td>12215000</td>\n",
       "      <td>7500</td>\n",
       "      <td>2</td>\n",
       "      <td>4</td>\n",
       "    </tr>\n",
       "    <tr>\n",
       "      <th>4</th>\n",
       "      <td>11410000</td>\n",
       "      <td>7420</td>\n",
       "      <td>1</td>\n",
       "      <td>4</td>\n",
       "    </tr>\n",
       "  </tbody>\n",
       "</table>\n",
       "</div>"
      ],
      "text/plain": [
       "      price  area  bathrooms  bedrooms\n",
       "0  13300000  7420          2         4\n",
       "1  12250000  8960          4         4\n",
       "2  12250000  9960          2         3\n",
       "3  12215000  7500          2         4\n",
       "4  11410000  7420          1         4"
      ]
     },
     "execution_count": 299,
     "metadata": {},
     "output_type": "execute_result"
    }
   ],
   "source": [
    "df.head()"
   ]
  },
  {
   "cell_type": "code",
   "execution_count": 300,
   "metadata": {
    "id": "NqJmSzewOKJc"
   },
   "outputs": [],
   "source": [
    "y_train = np.array(df[\"price\"])\n",
    "x_train = np.array(df.drop(\"price\", axis = 1))"
   ]
  },
  {
   "cell_type": "code",
   "execution_count": 301,
   "metadata": {},
   "outputs": [],
   "source": [
    "#x_train = np.array([[2104, 5, 1, 45], [1416, 3, 2, 40], [852, 2, 1, 35]])\n",
    "#y_train = np.array([460, 232, 178])"
   ]
  },
  {
   "cell_type": "code",
   "execution_count": 302,
   "metadata": {
    "id": "yX1s48HjmPk-"
   },
   "outputs": [],
   "source": [
    "w_actual = np.array([4,5,2])\n",
    "b_actual = 30"
   ]
  },
  {
   "cell_type": "code",
   "execution_count": 303,
   "metadata": {
    "id": "p_-EYeWuh4Jj"
   },
   "outputs": [],
   "source": [
    "w_init = np.zeros((x_train.shape[1],))\n",
    "b_init = 0.0"
   ]
  },
  {
   "cell_type": "code",
   "execution_count": 304,
   "metadata": {},
   "outputs": [
    {
     "data": {
      "text/plain": [
       "array([0., 0., 0.])"
      ]
     },
     "execution_count": 304,
     "metadata": {},
     "output_type": "execute_result"
    }
   ],
   "source": [
    "w_init"
   ]
  },
  {
   "cell_type": "code",
   "execution_count": 305,
   "metadata": {
    "colab": {
     "base_uri": "https://localhost:8080/"
    },
    "id": "IW2lJ2-TPwFi",
    "outputId": "bf36abbe-f9d8-41be-efb9-b60902920820"
   },
   "outputs": [
    {
     "data": {
      "text/plain": [
       "(545, 3)"
      ]
     },
     "execution_count": 305,
     "metadata": {},
     "output_type": "execute_result"
    }
   ],
   "source": [
    "x_train.shape"
   ]
  },
  {
   "cell_type": "code",
   "execution_count": 306,
   "metadata": {
    "id": "p7ZzoMn9OKG4"
   },
   "outputs": [],
   "source": [
    "def calc_cost(x,y, w, b):\n",
    "\n",
    "\n",
    "    m = x_train.shape[0]\n",
    "    cost = 0.0\n",
    "    for i in range(m):\n",
    "        f_w_b = np.dot(w,x[i]) + b\n",
    "        cost += (f_w_b - y[i])**2\n",
    "    return (1/(2*m))*cost\n"
   ]
  },
  {
   "cell_type": "code",
   "execution_count": 307,
   "metadata": {
    "id": "1B2tqy9NOKEm"
   },
   "outputs": [],
   "source": [
    "cost = calc_cost(x_train, y_train, w_init, b_init)"
   ]
  },
  {
   "cell_type": "code",
   "execution_count": 308,
   "metadata": {
    "colab": {
     "base_uri": "https://localhost:8080/"
    },
    "id": "AcP1sgZfOKCJ",
    "outputId": "3f6f9b6d-96ec-4322-c9a8-e741bccd11da"
   },
   "outputs": [
    {
     "data": {
      "text/plain": [
       "np.float64(13106916364659.268)"
      ]
     },
     "execution_count": 308,
     "metadata": {},
     "output_type": "execute_result"
    }
   ],
   "source": [
    "cost"
   ]
  },
  {
   "cell_type": "code",
   "execution_count": 309,
   "metadata": {
    "id": "D_fWYxJDOJ4o"
   },
   "outputs": [],
   "source": [
    "def calc_grad(x,y,w,b):\n",
    "    m = x_train.shape[0]\n",
    "    n = x_train.shape[1]\n",
    "    grad_w = np.zeros((x.shape[1],))\n",
    "    grad_b = 0.0\n",
    "    for i in range(m):\n",
    "        cost = (np.dot(w,x_train[i]) + b) - y[i]\n",
    "        grad_b += cost\n",
    "        for j in range(n):\n",
    "            grad_w[j] = grad_w[j] + (cost*x[i,j] )\n",
    "\n",
    "    return (grad_w/m), (grad_b/m)\n"
   ]
  },
  {
   "cell_type": "code",
   "execution_count": 310,
   "metadata": {},
   "outputs": [
    {
     "data": {
      "text/plain": [
       "array([-2.67229201e+10, -6.61666767e+06, -1.46390263e+07])"
      ]
     },
     "execution_count": 310,
     "metadata": {},
     "output_type": "execute_result"
    }
   ],
   "source": [
    "w_init, b_init = calc_grad(x_train, y_train, w_init, b_init)\n",
    "w_init"
   ]
  },
  {
   "cell_type": "code",
   "execution_count": 311,
   "metadata": {
    "id": "6kWugSw0h4Jr"
   },
   "outputs": [],
   "source": [
    "def Gradient_Descent(x,y,w_init,b_init,lr, steps):\n",
    "\n",
    "    cost_hist = []\n",
    "\n",
    "    w = copy.deepcopy(w_init)\n",
    "    b = b_init\n",
    "\n",
    "    for i in range(steps):\n",
    "        err = calc_cost(x,y,w, b)\n",
    "        cost_hist.append(err)\n",
    "        grad_w, grad_b = calc_grad(x,y,w,b)\n",
    "        w = w - (lr*grad_w)\n",
    "        b = b - (lr*grad_b)\n",
    "\n",
    "        if i%1000 ==0:\n",
    "            print(f\"Cost: {err}\")\n",
    "\n",
    "    return w, b, cost_hist\n",
    "\n"
   ]
  },
  {
   "cell_type": "code",
   "execution_count": 315,
   "metadata": {
    "colab": {
     "base_uri": "https://localhost:8080/"
    },
    "id": "_FLpXgsoh4Js",
    "outputId": "47401a74-b20b-4506-b794-664b94ddb7ae",
    "scrolled": true
   },
   "outputs": [
    {
     "name": "stdout",
     "output_type": "stream",
     "text": [
      "Cost: 1.1150529638043803e+28\n",
      "Cost: 245347875164369.75\n",
      "Cost: 6714808090635.276\n",
      "Cost: 6714797070590.859\n",
      "Cost: 6714786050572.98\n",
      "Cost: 6714775030576.511\n",
      "Cost: 6714764010601.468\n",
      "Cost: 6714752990647.847\n",
      "Cost: 6714741970715.65\n",
      "Cost: 6714730950804.864\n"
     ]
    }
   ],
   "source": [
    "#weight, bias, costs = Gradient_Descent(x_train, y_train, w_init, b_init, calc_cost, calc_grad, 5.0e-7, 200000)\n",
    "weight, bias, costs = Gradient_Descent(x_train, y_train, w_init, b_init, 5.0e-10, 10000)"
   ]
  },
  {
   "cell_type": "code",
   "execution_count": null,
   "metadata": {
    "colab": {
     "base_uri": "https://localhost:8080/"
    },
    "id": "ROQiKoUQh4Jt",
    "outputId": "cc4bd406-47d8-4ae9-f443-4a8ab189f472"
   },
   "outputs": [],
   "source": [
    "weight"
   ]
  },
  {
   "cell_type": "markdown",
   "metadata": {
    "id": "tkHUQ4ocOJ2G"
   },
   "source": [
    "array([  0.22657412,   4.52855109, -12.71471414,  -0.96942035])"
   ]
  },
  {
   "cell_type": "code",
   "execution_count": null,
   "metadata": {
    "id": "yYjIvAryOJzu"
   },
   "outputs": [],
   "source": []
  },
  {
   "cell_type": "code",
   "execution_count": null,
   "metadata": {
    "id": "qDAoVe5lOJwz"
   },
   "outputs": [],
   "source": []
  }
 ],
 "metadata": {
  "colab": {
   "provenance": []
  },
  "kernelspec": {
   "display_name": "Python 3 (ipykernel)",
   "language": "python",
   "name": "python3"
  },
  "language_info": {
   "codemirror_mode": {
    "name": "ipython",
    "version": 3
   },
   "file_extension": ".py",
   "mimetype": "text/x-python",
   "name": "python",
   "nbconvert_exporter": "python",
   "pygments_lexer": "ipython3",
   "version": "3.11.9"
  }
 },
 "nbformat": 4,
 "nbformat_minor": 4
}
